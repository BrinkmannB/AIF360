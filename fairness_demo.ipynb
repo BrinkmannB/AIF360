{
 "cells": [
  {
   "cell_type": "code",
   "execution_count": null,
   "id": "0",
   "metadata": {},
   "outputs": [],
   "source": [
    "import numpy as np\n",
    "import pandas as pd\n",
    "from aif360.datasets import AdultDataset\n",
    "from aif360.metrics import BinaryLabelDatasetMetric\n",
    "\n",
    "print(\"Fairness demo gestart ✅\")\n",
    "# Laad de Adult dataset (zit standaard in AIF360)\n",
    "dataset = AdultDataset()\n",
    "\n",
    "print(\"Aantal records:\", dataset.features.shape[0])\n",
    "print(\"Features:\", dataset.feature_names[:10], \"...\")\n",
    "print(\"Label:\", dataset.label_names)\n",
    "\n",
    "# We onderzoeken bias t.o.v. geslacht (male/female)\n",
    "metric = BinaryLabelDatasetMetric(dataset,\n",
    "                                  privileged_groups=[{'sex': 1}],\n",
    "                                  unprivileged_groups=[{'sex': 0}])\n",
    "\n",
    "print(\"Disparate impact:\", metric.disparate_impact())\n",
    "print(\"Mean difference:\", metric.mean_difference())\n",
    "di = metric.disparate_impact()\n",
    "if di < 0.8:\n",
    "    print(\"⚠️ Mogelijke bias gedetecteerd tegen vrouwen in de Adult dataset.\")\n",
    "else:\n",
    "    print(\"✅ Geen sterke bias zichtbaar volgens disparate impact.\")\n",
    "\n"
   ]
  }
 ],
 "metadata": {
  "kernelspec": {
   "display_name": "Python 3 (ipykernel)",
   "language": "python",
   "name": "python3"
  },
  "language_info": {
   "codemirror_mode": {
    "name": "ipython",
    "version": 3
   },
   "file_extension": ".py",
   "mimetype": "text/x-python",
   "name": "python",
   "nbconvert_exporter": "python",
   "pygments_lexer": "ipython3",
   "version": "3.9.6"
  }
 },
 "nbformat": 4,
 "nbformat_minor": 5
}
