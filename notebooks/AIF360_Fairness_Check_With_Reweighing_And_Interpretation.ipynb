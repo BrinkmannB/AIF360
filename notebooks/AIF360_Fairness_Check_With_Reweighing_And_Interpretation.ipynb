{
 "cells": [
  {
   "cell_type": "markdown",
   "id": "0",
   "metadata": {},
   "source": [
    "# 🔎 AIF360 Fairness Check + Mitigation\n",
    "In dit notebook voeren we een eenvoudige fairness-check uit met de Adult dataset.\n",
    "We kijken of er bias is op basis van **geslacht** (Male vs. Female) en passen daarna een **Reweighing**-techniek toe om bias te verminderen."
   ]
  },
  {
   "cell_type": "markdown",
   "id": "1",
   "metadata": {},
   "source": [
    "## 1. Imports\n",
    "We laden de benodigde libraries."
   ]
  },
  {
   "cell_type": "code",
   "execution_count": null,
   "id": "2",
   "metadata": {},
   "outputs": [],
   "source": [
    "from sklearn.datasets import fetch_openml\n",
    "import pandas as pd\n",
    "from aif360.datasets import StandardDataset\n",
    "from aif360.metrics import BinaryLabelDatasetMetric\n",
    "from aif360.algorithms.preprocessing import Reweighing"
   ]
  },
  {
   "cell_type": "markdown",
   "id": "3",
   "metadata": {},
   "source": [
    "## 2. Data laden\n",
    "We halen de Adult dataset op via OpenML, maken kolomnamen netjes en zetten hem om naar een AIF360 `StandardDataset`. "
   ]
  },
  {
   "cell_type": "code",
   "execution_count": null,
   "id": "4",
   "metadata": {},
   "outputs": [],
   "source": [
    "adult = fetch_openml('adult', version=2, as_frame=True)\n",
    "df = adult.frame.copy()\n",
    "\n",
    "df.columns = [c.strip() for c in df.columns]\n",
    "for col in ['sex', 'class']:\n",
    "    df[col] = df[col].astype(str).str.strip()\n",
    "\n",
    "categorical_features = [\n",
    "    'workclass','education','marital-status','occupation',\n",
    "    'relationship','race','sex','native-country'\n",
    "]\n",
    "\n",
    "dataset = StandardDataset(\n",
    "    df=df,\n",
    "    label_name='class',\n",
    "    favorable_classes=['>50K'],\n",
    "    protected_attribute_names=['sex'],\n",
    "    privileged_classes=[['Male']],\n",
    "    categorical_features=categorical_features,\n",
    "    na_values=['?']\n",
    ")\n",
    "\n",
    "print(\"✅ Dataset geladen:\", dataset.features.shape[0], \"samples\")"
   ]
  },
  {
   "cell_type": "markdown",
   "id": "5",
   "metadata": {},
   "source": [
    "## 3. Fairness check (voor mitigatie)\n",
    "We berekenen de **Disparate Impact** voor geslacht."
   ]
  },
  {
   "cell_type": "code",
   "execution_count": null,
   "id": "6",
   "metadata": {},
   "outputs": [],
   "source": [
    "metric_before = BinaryLabelDatasetMetric(\n",
    "    dataset,\n",
    "    privileged_groups=[{'sex': 1}],\n",
    "    unprivileged_groups=[{'sex': 0}]\n",
    ")\n",
    "print(\"Disparate Impact vóór mitigatie:\", metric_before.disparate_impact())"
   ]
  },
  {
   "cell_type": "markdown",
   "id": "7",
   "metadata": {},
   "source": [
    "## 4. Bias mitigatie met Reweighing\n",
    "We passen **Reweighing** toe: een techniek die sample-gewichten aanpast zodat de dataset eerlijker wordt."
   ]
  },
  {
   "cell_type": "code",
   "execution_count": null,
   "id": "8",
   "metadata": {},
   "outputs": [],
   "source": [
    "rw = Reweighing(\n",
    "    privileged_groups=[{'sex': 1}],\n",
    "    unprivileged_groups=[{'sex': 0}]\n",
    ")\n",
    "dataset_transf = rw.fit_transform(dataset)\n",
    "\n",
    "metric_after = BinaryLabelDatasetMetric(\n",
    "    dataset_transf,\n",
    "    privileged_groups=[{'sex': 1}],\n",
    "    unprivileged_groups=[{'sex': 0}]\n",
    ")\n",
    "print(\"Disparate Impact ná mitigatie:\", metric_after.disparate_impact())"
   ]
  },
  {
   "cell_type": "markdown",
   "id": "9",
   "metadata": {},
   "source": [
    "## 5. Interpretatie\n",
    "- **Vóór mitigatie**: De waarde van Disparate Impact ligt waarschijnlijk rond de 0.6–0.7. Dit betekent dat vrouwen ~60–70% kans hebben op een positieve uitkomst vergeleken met mannen → duidelijke bias.\n",
    "- **Ná mitigatie**: De waarde schuift dichter naar 1.0. Hoe dichter bij 1.0, hoe eerlijker de dataset is verdeeld → bias is verminderd.\n",
    "\n",
    "👉 In gewone taal: *voor de mitigatie discrimineerde de dataset tegen vrouwen, na reweighing is de data veel eerlijker verdeeld.*\n",
    "\n",
    "💡 In de praktijk gebruik je deze \"gecorrigeerde dataset\" om een model te trainen dat minder bias bevat."
   ]
  }
 ],
 "metadata": {
  "kernelspec": {
   "display_name": "Python 3 (ipykernel)",
   "language": "python",
   "name": "python3"
  },
  "language_info": {
   "codemirror_mode": {
    "name": "ipython",
    "version": 3
   },
   "file_extension": ".py",
   "mimetype": "text/x-python",
   "name": "python",
   "nbconvert_exporter": "python",
   "pygments_lexer": "ipython3",
   "version": "3.9.6"
  }
 },
 "nbformat": 4,
 "nbformat_minor": 5
}
